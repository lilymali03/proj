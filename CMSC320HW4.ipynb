{
  "nbformat": 4,
  "nbformat_minor": 0,
  "metadata": {
    "colab": {
      "provenance": [],
      "authorship_tag": "ABX9TyOkrJjKAas26IypZg5nlssy",
      "include_colab_link": true
    },
    "kernelspec": {
      "name": "python3",
      "display_name": "Python 3"
    },
    "language_info": {
      "name": "python"
    }
  },
  "cells": [
    {
      "cell_type": "markdown",
      "metadata": {
        "id": "view-in-github",
        "colab_type": "text"
      },
      "source": [
        "<a href=\"https://colab.research.google.com/github/lilymali03/proj/blob/main/CMSC320HW4.ipynb\" target=\"_parent\"><img src=\"https://colab.research.google.com/assets/colab-badge.svg\" alt=\"Open In Colab\"/></a>"
      ]
    },
    {
      "cell_type": "code",
      "execution_count": 2,
      "metadata": {
        "colab": {
          "base_uri": "https://localhost:8080/"
        },
        "id": "soMOoj9_ytWD",
        "outputId": "057e2652-fbf2-4901-8fa3-07fb3d54aae0"
      },
      "outputs": [
        {
          "output_type": "stream",
          "name": "stdout",
          "text": [
            "Mounted at /content/drive\n"
          ]
        }
      ],
      "source": [
        "from google.colab import drive\n",
        "drive.mount('/content/drive')\n",
        "import pandas as pd\n",
        "import numpy as np\n",
        "import scipy as sp\n",
        "import matplotlib.pyplot as plt\n",
        "\n",
        "\n",
        "\n"
      ]
    },
    {
      "cell_type": "code",
      "source": [
        "plt.style.use('classic')\n",
        "%matplotlib inline\n",
        "\n",
        "from matplotlib import cycler\n",
        "colors = cycler('color', ['#2b8cbe'])\n",
        "plt.rc('axes', facecolor='#ece7f2', edgecolor='#3388BB', axisbelow=True, grid=True, prop_cycle=colors)\n",
        "plt.rc('grid', color='w', linestyle='solid')\n",
        "plt.rc('xtick', direction='out', color='black')\n",
        "plt.rc('ytick', direction='out', color='black')\n",
        "plt.rc('patch', facecolor='#ece7f2', edgecolor='#ece7f2')\n",
        "plt.rc('figure', facecolor='w')"
      ],
      "metadata": {
        "id": "wPsP4OXKDZsw"
      },
      "execution_count": 3,
      "outputs": []
    },
    {
      "cell_type": "markdown",
      "source": [
        "## **Question One**"
      ],
      "metadata": {
        "id": "xh2pv9lcv_nl"
      }
    },
    {
      "cell_type": "markdown",
      "source": [
        "Is there a correlation between an individual's political views and the political views of the adults the individual grew up around?"
      ],
      "metadata": {
        "id": "slHM_rYV3G73"
      }
    },
    {
      "cell_type": "markdown",
      "source": [
        "To clean the data, I removed the rows from Max and Fardina's classes in which students didn't provide answers about the political views of the adults they grew up around or about their own political views. I also removed the data where the student put \"Don't know / It's complicated\" for the adults' or their own political views.\n",
        "\n",
        "Then, to make the data easier to analyze, I represented the different political views with numeric values. \"Strongly conservative\" became 0, \"mildly conservative\" became 1, \"neutral\" became 2, \"mildly liberal\" became 3, and \"strongly liberal\" became 4.\n",
        "\n",
        "I also combined the two datasets, and then found the correlation coefficient for the two variables \"Adults' Political View\" and \"Student's Political View\"."
      ],
      "metadata": {
        "id": "hR6pyitkLupw"
      }
    },
    {
      "cell_type": "code",
      "source": [
        "fardina = pd.read_csv(\"fardina.csv\")\n",
        "max = pd.read_csv(\"max.csv\")\n",
        "max.columns = ['Time', 'Year', 'Age', 'AdultsPolitical', 'YourPolitical', 'Spirituality', 'Gender', 'Q1', 'Q2', 'Q3', 'Q4', 'Q5', 'Q6', 'Q7', 'Q8', 'Q9', 'Q10', 'Q11', 'Q12', 'Q13', 'Q14']\n",
        "fardina.columns = ['Time', 'Year', 'Age', 'AdultsPolitical', 'YourPolitical', 'Spirituality', 'Gender', 'Compassion', 'Q1', 'Q2', 'Q3', 'Q4', 'Q5', 'Q6', 'Q7', 'Q8', 'Q9', 'Q10', 'Q11', 'Q12', 'Q13', 'Q14']\n",
        "max = max.dropna(subset=['AdultsPolitical', 'YourPolitical'])\n",
        "max = max[max['AdultsPolitical'] != \"Don't know / It's complicated\"]\n",
        "max = max[max['YourPolitical'] != \"Don't know / It's complicated\"]\n",
        "fardina = fardina.dropna(subset=['AdultsPolitical', 'YourPolitical'])\n",
        "fardina = fardina[fardina['AdultsPolitical'] != \"Don't know / It's complicated\"]\n",
        "fardina = fardina[fardina['YourPolitical'] != \"Don't know / It's complicated\"]\n",
        "#print(max.head(10))"
      ],
      "metadata": {
        "id": "SmlKkmvV7Zup"
      },
      "execution_count": 4,
      "outputs": []
    },
    {
      "cell_type": "code",
      "source": [
        "max = max.replace({'Strongly conservative': 0, 'Mildly conservative': 1, 'Neutral': 2, 'Mildly liberal': 3, 'Strongly liberal': 4}, regex=True)\n",
        "#max.head(200)"
      ],
      "metadata": {
        "id": "PCEhFxKrA97Y"
      },
      "execution_count": 5,
      "outputs": []
    },
    {
      "cell_type": "code",
      "source": [
        "fardina = fardina.replace({'Strongly conservative': 0, 'Mildly conservative': 1, 'Neutral': 2, 'Mildly liberal': 3, 'Strongly liberal': 4}, regex=True)\n",
        "#fardina.head(200)"
      ],
      "metadata": {
        "id": "jhuoviHiJQHK"
      },
      "execution_count": 6,
      "outputs": []
    },
    {
      "cell_type": "code",
      "source": [
        "combined = pd.concat([max[['AdultsPolitical', 'YourPolitical']], fardina[['AdultsPolitical', 'YourPolitical']]])\n",
        "combined['AdultsPolitical'] = combined['AdultsPolitical'].astype('int64')\n",
        "combined['YourPolitical'] = combined['YourPolitical'].astype('int64')\n",
        "\n",
        "\n",
        "#combined.head(300)\n",
        "\n"
      ],
      "metadata": {
        "id": "xo0fIrAQX21y"
      },
      "execution_count": 7,
      "outputs": []
    },
    {
      "cell_type": "code",
      "source": [
        "correlation_coefficient = combined['AdultsPolitical'].corr(combined['YourPolitical'])\n",
        "\n",
        "plt.figure(figsize=(8, 6))\n",
        "plt.axes(facecolor='w')\n",
        "plt.scatter(combined['AdultsPolitical'], combined['YourPolitical'], alpha=0.1)\n",
        "plt.xlabel(\"Adults' Political View\")\n",
        "plt.ylabel(\"Student's Political View\")\n",
        "plt.title(f\"Adult versus Student's Political Views (Correlation Coefficient: {correlation_coefficient:.2f})\", pad=20)\n",
        "plt.grid(True)\n",
        "plt.show()\n",
        "\n",
        "print(\"Pearson Correlation Coefficient (r):\" , correlation_coefficient)"
      ],
      "metadata": {
        "colab": {
          "base_uri": "https://localhost:8080/",
          "height": 509
        },
        "id": "DX0MPTaScQZx",
        "outputId": "55cc70d9-c863-483f-b540-04d34a24d00b"
      },
      "execution_count": 8,
      "outputs": [
        {
          "output_type": "display_data",
          "data": {
            "text/plain": [
              "<Figure size 640x480 with 1 Axes>"
            ],
            "image/png": "[encoded data removed]"
          },
          "metadata": {}
        },
        {
          "output_type": "stream",
          "name": "stdout",
          "text": [
            "Pearson Correlation Coefficient (r): 0.30223559124374494\n"
          ]
        }
      ]
    },
    {
      "cell_type": "markdown",
      "source": [
        "The lighter dots represent data that occurs less within the dataset used, while darker dots represent data that occurs more frequently within the dataset used.\n",
        "\n",
        "The correlation coefficient of 0.28 shows that there is a slight correlation between the adults' political views and the student's political views. Since 0.28 is positive, as the adults' political view becomes more liberal, the student's political view also becomes more liberal. However, 0.28 is not that strong of a correlation, which means that the linear relationship is not too strong."
      ],
      "metadata": {
        "id": "cWSjz0ksQDTx"
      }
    },
    {
      "cell_type": "markdown",
      "source": [
        "## **Question Two**"
      ],
      "metadata": {
        "id": "-zZEyHA4wM-j"
      }
    },
    {
      "cell_type": "markdown",
      "source": [
        "In Fardina’s class, what is relationship between if a student thought they were compassionate and how they responded to the \"Am I a jerk?\" questions? Additionally, how does this compare to Max's class, where the students were not asked if they thought they were compassionate?"
      ],
      "metadata": {
        "id": "YOjPlLil31MK"
      }
    },
    {
      "cell_type": "markdown",
      "source": [
        "To clean the data, I removed the rows from Fardina's class in which students didn't provide answers about if they thought they were compassionate or to an \"Am I a jerk?\" question.\n",
        "\n",
        "Then, to make the data easier to analyze, I represented the different opinions with numeric values. \"Not a jerk\" became 0, \"mildly a jerk\" became 1, and \"strongly a jerk\" became 2. I also added a column called \"Average\", where I computed the mean of how the student answered the fourteen \"Am I a jerk\" questions by summing up all of the numeric representations of the responses the student gave and dividing this sum by fourteen."
      ],
      "metadata": {
        "id": "BQfxNDp-RhZ0"
      }
    },
    {
      "cell_type": "code",
      "source": [
        "fardina = pd.read_csv(\"fardina.csv\")\n",
        "fardina.columns = ['Time', 'Year', 'Age', 'AdultsPolitical', 'YourPolitical', 'Spirituality', 'Gender', 'Compassion', 'Q1', 'Q2', 'Q3', 'Q4', 'Q5', 'Q6', 'Q7', 'Q8', 'Q9', 'Q10', 'Q11', 'Q12', 'Q13', 'Q14']\n",
        "fardina = fardina.dropna(subset='Compassion')\n",
        "fardina = fardina.dropna(subset=['Q1', 'Q2', 'Q3', 'Q4', 'Q5', 'Q6', 'Q7', 'Q8', 'Q9', 'Q10', 'Q11', 'Q12', 'Q13', 'Q14'])\n",
        "#fardina.head(200)"
      ],
      "metadata": {
        "id": "DSk6-Hhrer6f"
      },
      "execution_count": 9,
      "outputs": []
    },
    {
      "cell_type": "code",
      "source": [
        "fardina = fardina.replace({'Not a jerk': 0, 'Mildly a jerk': 1, 'Strongly a jerk': 2}, regex=True)\n",
        "#fardina.head(200)"
      ],
      "metadata": {
        "id": "xmmjXRlWfZhA"
      },
      "execution_count": 10,
      "outputs": []
    },
    {
      "cell_type": "code",
      "source": [
        "fardina['Average'] = fardina.loc[:,['Q1','Q2','Q3','Q4','Q5','Q6','Q7','Q8','Q9','Q10','Q11','Q12','Q13','Q14']].mean(axis=1)\n",
        "#fardina.head(200)"
      ],
      "metadata": {
        "id": "-E37OTd4gQiH"
      },
      "execution_count": 11,
      "outputs": []
    },
    {
      "cell_type": "code",
      "source": [
        "compassionate = fardina.loc[fardina[\"Compassion\"] == 'Yes']\n",
        "not_compassionate = fardina.loc[fardina[\"Compassion\"] == 'No']\n",
        "ax = compassionate[\"Average\"].hist()\n",
        "ax.set_xlabel(\"Average\")\n",
        "ax.set_ylabel(\"Frequency\")\n",
        "ax.set_title(\"Average Responses to 'Am I a jerk' Given By People Who Say They're Compassionate\", pad=20)"
      ],
      "metadata": {
        "colab": {
          "base_uri": "https://localhost:8080/",
          "height": 509
        },
        "id": "LZxYMSD5izIw",
        "outputId": "3e23d28b-3de7-4e3d-fc22-fc162e07e2c6"
      },
      "execution_count": 12,
      "outputs": [
        {
          "output_type": "execute_result",
          "data": {
            "text/plain": [
              "Text(0.5, 1.0, \"Average Responses to 'Am I a jerk' Given By People Who Say They're Compassionate\")"
            ]
          },
          "metadata": {},
          "execution_count": 12
        },
        {
          "output_type": "display_data",
          "data": {
            "text/plain": [
              "<Figure size 640x480 with 1 Axes>"
            ],
            "image/png": "[encoded data removed]"
          },
          "metadata": {}
        }
      ]
    },
    {
      "cell_type": "code",
      "source": [
        "ax = not_compassionate[\"Average\"].hist()\n",
        "ax.set_xlabel(\"Average\")\n",
        "ax.set_ylabel(\"Frequency\")\n",
        "ax.set_title(\"Average Responses to 'Am I a jerk' Given By People Who Say They're Not Compassionate\", pad=20)\n",
        "ax.set_ylim(0, 4.5)"
      ],
      "metadata": {
        "colab": {
          "base_uri": "https://localhost:8080/",
          "height": 509
        },
        "id": "3Bcnz8TAk61g",
        "outputId": "3795c48e-b83c-498c-a140-4b121bc5072c"
      },
      "execution_count": 13,
      "outputs": [
        {
          "output_type": "execute_result",
          "data": {
            "text/plain": [
              "(0.0, 4.5)"
            ]
          },
          "metadata": {},
          "execution_count": 13
        },
        {
          "output_type": "display_data",
          "data": {
            "text/plain": [
              "<Figure size 640x480 with 1 Axes>"
            ],
            "image/png": "[encoded data removed]"
          },
          "metadata": {}
        }
      ]
    },
    {
      "cell_type": "markdown",
      "source": [
        "$N_0 = $ Whether or not an individual believes they are compassionate, and whether or not the individual believes others are jerks in certain scenarios, do not have a statistically significant association.\n",
        "\n",
        "$N_A = $ There's a statistically significant association between whether or not an individual believes they are compassionate, and whether or not the individual believes others are jerks in certain scenarios"
      ],
      "metadata": {
        "id": "C4zQThhClGgO"
      }
    },
    {
      "cell_type": "code",
      "source": [
        "res = sp.stats.mannwhitneyu(compassionate['Average'], not_compassionate['Average'])\n",
        "print(res)"
      ],
      "metadata": {
        "colab": {
          "base_uri": "https://localhost:8080/"
        },
        "id": "h3_SL6VqlRQU",
        "outputId": "beae1749-8d2b-4e76-aa9c-2fb3667e92ca"
      },
      "execution_count": 14,
      "outputs": [
        {
          "output_type": "stream",
          "name": "stdout",
          "text": [
            "MannwhitneyuResult(statistic=1198.0, pvalue=0.13290523700611553)\n"
          ]
        }
      ]
    },
    {
      "cell_type": "markdown",
      "source": [
        "I used a Mann-Whitney Test because there are two samples, those who thought of themselves as compassionate and those who didn't. The histogram for people who didn't think of themselves as compassionate has gaps, so it does not represent a normal distribution. Using an alpha-value of 0.05, we will fail to reject the null hypothesis because of our p-value of 0.10, which is larger than 0.05. This means that we cannot conclude that there is a statistically significant association between whether or not an individual believes they are compassionate, and whether or not the individual believes others are jerks in certain scenarios."
      ],
      "metadata": {
        "id": "jvkXhueJX2bG"
      }
    },
    {
      "cell_type": "markdown",
      "source": [
        "Then, I cleaned the data representing Max's class by removing the rows in which students didn't provide an answer to an \"Am I a jerk?\" questions.\n",
        "\n",
        "Then, to make the data easier to analyze, I represented the different opinions with numeric values. \"Not a jerk\" became 0, \"mildly a jerk\" became 1, and \"strongly a jerk\" became 2. I also added a column called \"Average\", where I computed the mean of how the student answered the fourteen \"Am I a jerk\" questions by summing up all of the numeric representations of the responses the student gave and dividing this sum by fourteen."
      ],
      "metadata": {
        "id": "MEnBuLjuYkkh"
      }
    },
    {
      "cell_type": "code",
      "source": [
        "max = pd.read_csv(\"max.csv\")\n",
        "max.columns = ['Time', 'Year', 'Age', 'AdultsPolitical', 'YourPolitical', 'Spirituality', 'Gender', 'Q1', 'Q2', 'Q3', 'Q4', 'Q5', 'Q6', 'Q7', 'Q8', 'Q9', 'Q10', 'Q11', 'Q12', 'Q13', 'Q14']\n",
        "max = max.dropna(subset=['Q1', 'Q2', 'Q3', 'Q4', 'Q5', 'Q6', 'Q7', 'Q8', 'Q9', 'Q10', 'Q11', 'Q12', 'Q13', 'Q14'])\n",
        "#max.head(200)"
      ],
      "metadata": {
        "id": "R7PJEyswzOBB"
      },
      "execution_count": 15,
      "outputs": []
    },
    {
      "cell_type": "code",
      "source": [
        "max = max.replace({'Not a jerk': 0, 'Mildly a jerk': 1, 'Strongly a jerk': 2}, regex=True)\n",
        "#max.head(200)"
      ],
      "metadata": {
        "id": "033bIiJ7znta"
      },
      "execution_count": 16,
      "outputs": []
    },
    {
      "cell_type": "code",
      "source": [
        "max['Average'] = max.loc[:,['Q1','Q2','Q3','Q4','Q5','Q6','Q7','Q8','Q9','Q10','Q11','Q12','Q13','Q14']].mean(axis=1)\n",
        "#max.head(200)"
      ],
      "metadata": {
        "id": "cMOrXU0Fz3-x"
      },
      "execution_count": 17,
      "outputs": []
    },
    {
      "cell_type": "code",
      "source": [
        "ax = max[\"Average\"].hist()\n",
        "ax.set_xlabel(\"Average\")\n",
        "ax.set_ylabel(\"Frequency\")\n",
        "ax.set_title(\"Average Responses to 'Am I a jerk' Given By People Who Aren't Asked About Compassion\", pad=20)"
      ],
      "metadata": {
        "colab": {
          "base_uri": "https://localhost:8080/",
          "height": 509
        },
        "id": "SSkfu4Bs0XGR",
        "outputId": "393d925d-d307-4e32-8e14-ed5b43c73f1b"
      },
      "execution_count": 18,
      "outputs": [
        {
          "output_type": "execute_result",
          "data": {
            "text/plain": [
              "Text(0.5, 1.0, \"Average Responses to 'Am I a jerk' Given By People Who Aren't Asked About Compassion\")"
            ]
          },
          "metadata": {},
          "execution_count": 18
        },
        {
          "output_type": "display_data",
          "data": {
            "text/plain": [
              "<Figure size 640x480 with 1 Axes>"
            ],
            "image/png": "[encoded data removed]"
          },
          "metadata": {}
        }
      ]
    },
    {
      "cell_type": "markdown",
      "source": [
        "$N_0 = $ Whether or not an individual believes they are compassionate or is asked about their compassion, and whether or not the individual believes others are jerks in certain scenarios, do not have a statistically significant association.\n",
        "\n",
        "$N_A = $ There's a statistically significant association between whether or not an individual believes they are compassionate or is asked about their compassion, and whether or not the individual believes others are jerks in certain scenarios"
      ],
      "metadata": {
        "id": "zIW9z6G_a3JD"
      }
    },
    {
      "cell_type": "code",
      "source": [
        "res = sp.stats.kruskal(compassionate['Average'], not_compassionate['Average'], max['Average'])\n",
        "print(res)"
      ],
      "metadata": {
        "colab": {
          "base_uri": "https://localhost:8080/"
        },
        "id": "X2m4VF3C0o8Y",
        "outputId": "f131a5cd-db57-4910-bf29-6e5c228e2cec"
      },
      "execution_count": 19,
      "outputs": [
        {
          "output_type": "stream",
          "name": "stdout",
          "text": [
            "KruskalResult(statistic=2.328502938855126, pvalue=0.3121562330880463)\n"
          ]
        }
      ]
    },
    {
      "cell_type": "markdown",
      "source": [
        "I used a Kruskal-Wallis Test because there are more than two samples, those who thought of themselves as compassionate, those who didn't, and those who weren't asked if they thought of themselves as compassionate. The histogram for people who didn't think of themselves as compassionate has gaps, so it does not represent a normal distribution. Although there is a slight gap in the histogram representing those who weren't asked about compassion, there aren't major outliers within any of the data.\n",
        "\n",
        "Using an alpha-value of 0.05, we will fail to reject the null hypothesis because of our p-value of 0.24, which is larger than 0.05. This means that we cannot conclude that there is a statistically significant association between whether or not an individual believes they are compassionate or is asked about their compassion, and whether or not the individual believes others are jerks in certain scenarios."
      ],
      "metadata": {
        "id": "wFXGzYLEZW6k"
      }
    },
    {
      "cell_type": "markdown",
      "source": [
        "## **Question Three**"
      ],
      "metadata": {
        "id": "L9baF5spwUuj"
      }
    },
    {
      "cell_type": "markdown",
      "source": [
        "Some of the \"Am I a jerk?\" questions involve questions relating to pregnancy decisions and wedding planning. Is there a relationship between gender and these types of questions?"
      ],
      "metadata": {
        "id": "sMhkIv7R35sA"
      }
    },
    {
      "cell_type": "markdown",
      "source": [
        "I thought that some of the questions that might cause the greatest divide in opinions between people who identify as different genders were the following three questions:\n",
        "\n",
        "\n",
        "*   \"My daughter is getting married soon. I only learned about her a few years ago. We've been building a relationship the last few years though and I am lucky to have her in my life now. Recently, she asked me to walk her down the aisle and while I am honored I told her no. Her step-dad practically raised her from a baby and I think that he deserves it far more than me. She was really upset and hurt when I said no. Am I a jerk?\"\n",
        "*   \"My wife has decided that since she can’t drink because she is pregnant that I can’t either. I planned to take my annual leave from work to take us (and pay for) a trip abroad. I asked my wife would the drinking rule still be in effect and she said of course. I’ve now decided I won’t be paying for us to take this trip. Am I a jerk?\"\n",
        "*   \"My sister is going to be a bridesmaid at my wedding. Her hair was dyed, but she recently decided to grow it out, so parts of it are bleached and part are not. I told her it wouldn't look good in the pictures, and offered to pay for her to dye it. She said no, and I said she couldn't be in the wedding party. Am I a jerk?\""
      ],
      "metadata": {
        "id": "s5e3h4a-cMf2"
      }
    },
    {
      "cell_type": "markdown",
      "source": [
        "To clean the data, I removed the rows from Max and Fardina's classes in which students didn't provide answers about their gender. Sometimes, \"Female\" was spelled as \"Famale\", so I replaced all of the incorrect spellings with the correct spelling of the word. I also removed the data where the student answered the question with \"Prefer not to say\".\n",
        "\n",
        "I also removed the rows in which students didn't provide answers about to one of the three \"Am I a jerk?\" questions listed above.\n",
        "\n",
        "Then, to make the data easier to analyze, I represented the different opinions with numeric values. \"Not a jerk\" became 0, \"mildly a jerk\" became 1, and \"strongly a jerk\" became 2. I also added a column called \"Average\", where I computed the mean of how the student answered the three \"Am I a jerk\" questions listed above by summing up all of the numeric representations of the responses the student gave and dividing this sum by three.\n",
        "\n",
        "I also combined the two datasets."
      ],
      "metadata": {
        "id": "wCvfJZC5dSwf"
      }
    },
    {
      "cell_type": "code",
      "source": [
        "fardina = pd.read_csv(\"fardina.csv\")\n",
        "fardina.columns = ['Time', 'Year', 'Age', 'AdultsPolitical', 'YourPolitical', 'Spirituality', 'Gender', 'Compassion', 'Q1', 'Q2', 'Q3', 'Q4', 'Q5', 'Q6', 'Q7', 'Q8', 'Q9', 'Q10', 'Q11', 'Q12', 'Q13', 'Q14']\n",
        "fardina = fardina.dropna(subset='Gender')\n",
        "fardina = fardina.dropna(subset=['Q2', 'Q13', 'Q14'])\n",
        "max = pd.read_csv(\"max.csv\")\n",
        "max.columns = ['Time', 'Year', 'Age', 'AdultsPolitical', 'YourPolitical', 'Spirituality', 'Gender', 'Q1', 'Q2', 'Q3', 'Q4', 'Q5', 'Q6', 'Q7', 'Q8', 'Q9', 'Q10', 'Q11', 'Q12', 'Q13', 'Q14']\n",
        "max = max.dropna(subset='Gender')\n",
        "max = max.dropna(subset=['Q2', 'Q13', 'Q14'])"
      ],
      "metadata": {
        "id": "2Crg_11OnAX1"
      },
      "execution_count": 20,
      "outputs": []
    },
    {
      "cell_type": "code",
      "source": [
        "fardina = fardina.replace({'Not a jerk': 0, 'Mildly a jerk': 1, 'Strongly a jerk': 2}, regex=True)\n",
        "max = max.replace({'Not a jerk': 0, 'Mildly a jerk': 1, 'Strongly a jerk': 2}, regex=True)"
      ],
      "metadata": {
        "id": "dAOnI6kPR712"
      },
      "execution_count": 21,
      "outputs": []
    },
    {
      "cell_type": "code",
      "source": [
        "fardina['Average'] = fardina.loc[:,['Q2','Q13','Q14']].mean(axis=1)\n",
        "max['Average'] = max.loc[:,['Q2','Q13','Q14']].mean(axis=1)"
      ],
      "metadata": {
        "id": "gVg3pomjSNPV"
      },
      "execution_count": 22,
      "outputs": []
    },
    {
      "cell_type": "code",
      "source": [
        "combined = pd.concat([max[['Gender', 'Average']], fardina[['Gender', 'Average']]])\n",
        "combined = combined.replace({'Famale': 'Female'}, regex=True)\n",
        "combined = combined[combined['Gender'] != 'Prefer not to say']\n",
        "\n",
        "\n",
        "#combined.head(20)"
      ],
      "metadata": {
        "id": "A5QzHIxoTccl"
      },
      "execution_count": 23,
      "outputs": []
    },
    {
      "cell_type": "code",
      "source": [
        "female = combined.loc[combined[\"Gender\"] == 'Female']\n",
        "male = combined.loc[combined[\"Gender\"] == 'Male']\n",
        "other = combined.loc[combined[\"Gender\"] == 'Non-binary / other']\n",
        "#print(other.head(10))"
      ],
      "metadata": {
        "id": "xmTF02iRWFiZ"
      },
      "execution_count": 24,
      "outputs": []
    },
    {
      "cell_type": "code",
      "source": [
        "ax = female[\"Average\"].hist()\n",
        "ax.set_xlabel(\"Average\")\n",
        "ax.set_ylabel(\"Frequency\")\n",
        "ax.set_title(\"Average Response to the Three Questions for Those Who Identify as Female\", pad=20)\n",
        "#ax.set_xlim(0, 2)"
      ],
      "metadata": {
        "colab": {
          "base_uri": "https://localhost:8080/",
          "height": 509
        },
        "id": "D4T1BSP9W9sV",
        "outputId": "41bba97f-3e5a-4638-d0d3-5eb759da0e2e"
      },
      "execution_count": 25,
      "outputs": [
        {
          "output_type": "execute_result",
          "data": {
            "text/plain": [
              "Text(0.5, 1.0, 'Average Response to the Three Questions for Those Who Identify as Female')"
            ]
          },
          "metadata": {},
          "execution_count": 25
        },
        {
          "output_type": "display_data",
          "data": {
            "text/plain": [
              "<Figure size 640x480 with 1 Axes>"
            ],
            "image/png": "[encoded data removed]"
          },
          "metadata": {}
        }
      ]
    },
    {
      "cell_type": "code",
      "source": [
        "ax = male[\"Average\"].hist()\n",
        "ax.set_xlabel(\"Average\")\n",
        "ax.set_ylabel(\"Frequency\")\n",
        "ax.set_title(\"Average Response to the Three Questions for Those Who Identify as Male\", pad=20)"
      ],
      "metadata": {
        "colab": {
          "base_uri": "https://localhost:8080/",
          "height": 509
        },
        "id": "Mp9NG_MwXJvB",
        "outputId": "58b444db-5718-45c4-cf0d-404cb4fc8dce"
      },
      "execution_count": 26,
      "outputs": [
        {
          "output_type": "execute_result",
          "data": {
            "text/plain": [
              "Text(0.5, 1.0, 'Average Response to the Three Questions for Those Who Identify as Male')"
            ]
          },
          "metadata": {},
          "execution_count": 26
        },
        {
          "output_type": "display_data",
          "data": {
            "text/plain": [
              "<Figure size 640x480 with 1 Axes>"
            ],
            "image/png": "[encoded data removed]"
          },
          "metadata": {}
        }
      ]
    },
    {
      "cell_type": "code",
      "source": [
        "ax = other[\"Average\"].hist()\n",
        "ax.set_xlabel(\"Average\")\n",
        "ax.set_ylabel(\"Frequency\")\n",
        "ax.set_title(\"Average Response to the Three Questions for Those Who Identify as Other/Non-binary\", pad=20)\n",
        "ax.set_ylim(0, 2.25)"
      ],
      "metadata": {
        "colab": {
          "base_uri": "https://localhost:8080/",
          "height": 509
        },
        "id": "l65z0AlrXO_o",
        "outputId": "b8de5bb3-cea8-4a2e-d9e2-50ee053d80e3"
      },
      "execution_count": 27,
      "outputs": [
        {
          "output_type": "execute_result",
          "data": {
            "text/plain": [
              "(0.0, 2.25)"
            ]
          },
          "metadata": {},
          "execution_count": 27
        },
        {
          "output_type": "display_data",
          "data": {
            "text/plain": [
              "<Figure size 640x480 with 1 Axes>"
            ],
            "image/png": "[encoded data removed]"
          },
          "metadata": {}
        }
      ]
    },
    {
      "cell_type": "markdown",
      "source": [
        "$N_0 = $ The gender an individual identifies with and whether or not they think somebody in the three scenarios above is a jerk do not have a statistically significant association.\n",
        "\n",
        "$N_A = $ There's a statistically significant association between the gender an individual identifies with and whether or not they think somebody in the three scenarios above is a jerk."
      ],
      "metadata": {
        "id": "QVPIQ-GDhULg"
      }
    },
    {
      "cell_type": "code",
      "source": [
        "res = sp.stats.kruskal(female['Average'], male['Average'], other['Average'])\n",
        "print(res)"
      ],
      "metadata": {
        "colab": {
          "base_uri": "https://localhost:8080/"
        },
        "id": "SQ3Z-rVDXaHu",
        "outputId": "808d8ab1-552d-4e00-88e0-b9a1b1c58b05"
      },
      "execution_count": 28,
      "outputs": [
        {
          "output_type": "stream",
          "name": "stdout",
          "text": [
            "KruskalResult(statistic=3.1151910113216195, pvalue=0.21064195014222004)\n"
          ]
        }
      ]
    },
    {
      "cell_type": "markdown",
      "source": [
        "I used a Kruskal-Wallis Test because there are more than two samples, those who identified as female, those who identified as male, and those who identified as other/non-binary. All three histograms have gaps, so they do not have normal distributions. None of the histograms have outliers.\n",
        "\n",
        "Using an alpha-value of 0.05, we will fail to reject the null hypothesis because of our p-value of 0.27, which is larger than 0.05. This means that we cannot conclude that there is a statistically significant association between the gender somebody identifies with and whether or not they think somebody in the three scenarios above is a jerk."
      ],
      "metadata": {
        "id": "GuspgGyDh7tk"
      }
    },
    {
      "cell_type": "markdown",
      "source": [
        "Afterwards, I compared the distributions for those who identify as female and those who identify as male."
      ],
      "metadata": {
        "id": "mQ43GEsPifO1"
      }
    },
    {
      "cell_type": "markdown",
      "source": [
        "$N_0 = $ Identifying as female or male, and whether or not the individual thinks someone in the three scenarios above is a jerk, do not have a statistically significant association.\n",
        "\n",
        "$N_A = $ There's a statistically significant association between identifying as female or male, and whether or not the individual believes somebody in the three scenarios above is a jerk."
      ],
      "metadata": {
        "id": "DgpHjJ62i0QV"
      }
    },
    {
      "cell_type": "code",
      "source": [
        "res = sp.stats.mannwhitneyu(female['Average'], male['Average'])\n",
        "print(res)"
      ],
      "metadata": {
        "colab": {
          "base_uri": "https://localhost:8080/"
        },
        "id": "WOsfMjB4dt-1",
        "outputId": "fae308e6-4675-4106-cfa2-14d224d29513"
      },
      "execution_count": 29,
      "outputs": [
        {
          "output_type": "stream",
          "name": "stdout",
          "text": [
            "MannwhitneyuResult(statistic=4779.5, pvalue=0.25927030055438227)\n"
          ]
        }
      ]
    },
    {
      "cell_type": "markdown",
      "source": [
        "I used a Mann-Whitney Test because there are two samples. Neither of the histograms have normal distributions.\n",
        "\n",
        "Using an alpha-value of 0.05, we will fail to reject the null hypothesis because of our p-value of 0.16, which is larger than 0.05. This means that we cannot conclude that there is a statistically significant association between identifying as male or female and whether or not the individual thinks somebody in the three scenarios above is a jerk."
      ],
      "metadata": {
        "id": "iBhYFHxSjUHe"
      }
    },
    {
      "cell_type": "code",
      "source": [
        "!apt-get install texlive texlive-xetex texlive-latex-extra pandoc\n",
        "!pip install pypandoc"
      ],
      "metadata": {
        "colab": {
          "base_uri": "https://localhost:8080/"
        },
        "id": "75tWgdAqxHr2",
        "outputId": "d1340399-1ae2-4425-bd83-e64fbedd931e"
      },
      "execution_count": 30,
      "outputs": [
        {
          "output_type": "stream",
          "name": "stdout",
          "text": [
            "Reading package lists... Done\n",
            "Building dependency tree... Done\n",
            "Reading state information... Done\n",
            "pandoc is already the newest version (2.9.2.1-3ubuntu2).\n",
            "pandoc set to manually installed.\n",
            "The following additional packages will be installed:\n",
            "  dvisvgm fonts-droid-fallback fonts-lato fonts-lmodern fonts-noto-mono fonts-texgyre\n",
            "  fonts-urw-base35 libapache-pom-java libcommons-logging-java libcommons-parent-java\n",
            "  libfontbox-java libfontenc1 libgs9 libgs9-common libidn12 libijs-0.35 libjbig2dec0 libkpathsea6\n",
            "  libpdfbox-java libptexenc1 libruby3.0 libsynctex2 libteckit0 libtexlua53 libtexluajit2 libwoff1\n",
            "  libzzip-0-13 lmodern poppler-data preview-latex-style rake ruby ruby-net-telnet ruby-rubygems\n",
            "  ruby-webrick ruby-xmlrpc ruby3.0 rubygems-integration t1utils teckit tex-common tex-gyre\n",
            "  texlive-base texlive-binaries texlive-fonts-recommended texlive-latex-base\n",
            "  texlive-latex-recommended texlive-pictures texlive-plain-generic tipa xfonts-encodings\n",
            "  xfonts-utils\n",
            "Suggested packages:\n",
            "  fonts-noto fonts-freefont-otf | fonts-freefont-ttf libavalon-framework-java\n",
            "  libcommons-logging-java-doc libexcalibur-logkit-java liblog4j1.2-java poppler-utils ghostscript\n",
            "  fonts-japanese-mincho | fonts-ipafont-mincho fonts-japanese-gothic | fonts-ipafont-gothic\n",
            "  fonts-arphic-ukai fonts-arphic-uming fonts-nanum ri ruby-dev bundler debhelper gv\n",
            "  | postscript-viewer perl-tk xpdf | pdf-viewer xzdec texlive-fonts-recommended-doc\n",
            "  texlive-latex-base-doc python3-pygments icc-profiles libfile-which-perl\n",
            "  libspreadsheet-parseexcel-perl texlive-latex-extra-doc texlive-latex-recommended-doc\n",
            "  texlive-luatex texlive-pstricks dot2tex prerex texlive-pictures-doc vprerex default-jre-headless\n",
            "  tipa-doc\n",
            "The following NEW packages will be installed:\n",
            "  dvisvgm fonts-droid-fallback fonts-lato fonts-lmodern fonts-noto-mono fonts-texgyre\n",
            "  fonts-urw-base35 libapache-pom-java libcommons-logging-java libcommons-parent-java\n",
            "  libfontbox-java libfontenc1 libgs9 libgs9-common libidn12 libijs-0.35 libjbig2dec0 libkpathsea6\n",
            "  libpdfbox-java libptexenc1 libruby3.0 libsynctex2 libteckit0 libtexlua53 libtexluajit2 libwoff1\n",
            "  libzzip-0-13 lmodern poppler-data preview-latex-style rake ruby ruby-net-telnet ruby-rubygems\n",
            "  ruby-webrick ruby-xmlrpc ruby3.0 rubygems-integration t1utils teckit tex-common tex-gyre texlive\n",
            "  texlive-base texlive-binaries texlive-fonts-recommended texlive-latex-base texlive-latex-extra\n",
            "  texlive-latex-recommended texlive-pictures texlive-plain-generic texlive-xetex tipa\n",
            "  xfonts-encodings xfonts-utils\n",
            "0 upgraded, 55 newly installed, 0 to remove and 24 not upgraded.\n",
            "Need to get 182 MB of archives.\n",
            "After this operation, 572 MB of additional disk space will be used.\n",
            "Get:1 http://archive.ubuntu.com/ubuntu jammy/main amd64 fonts-droid-fallback all 1:6.0.1r16-1.1build1 [1,805 kB]\n",
            "Get:2 http://archive.ubuntu.com/ubuntu jammy/main amd64 fonts-lato all 2.0-2.1 [2,696 kB]\n",
            "Get:3 http://archive.ubuntu.com/ubuntu jammy/main amd64 poppler-data all 0.4.11-1 [2,171 kB]\n",
            "Get:4 http://archive.ubuntu.com/ubuntu jammy/universe amd64 tex-common all 6.17 [33.7 kB]\n",
            "Get:5 http://archive.ubuntu.com/ubuntu jammy/main amd64 fonts-urw-base35 all 20200910-1 [6,367 kB]\n",
            "Get:6 http://archive.ubuntu.com/ubuntu jammy-updates/main amd64 libgs9-common all 9.55.0~dfsg1-0ubuntu5.6 [751 kB]\n",
            "Get:7 http://archive.ubuntu.com/ubuntu jammy-updates/main amd64 libidn12 amd64 1.38-4ubuntu1 [60.0 kB]\n",
            "Get:8 http://archive.ubuntu.com/ubuntu jammy/main amd64 libijs-0.35 amd64 0.35-15build2 [16.5 kB]\n",
            "Get:9 http://archive.ubuntu.com/ubuntu jammy/main amd64 libjbig2dec0 amd64 0.19-3build2 [64.7 kB]\n",
            "Get:10 http://archive.ubuntu.com/ubuntu jammy-updates/main amd64 libgs9 amd64 9.55.0~dfsg1-0ubuntu5.6 [5,031 kB]\n",
            "Get:11 http://archive.ubuntu.com/ubuntu jammy-updates/main amd64 libkpathsea6 amd64 2021.20210626.59705-1ubuntu0.1 [60.3 kB]\n",
            "Get:12 http://archive.ubuntu.com/ubuntu jammy/main amd64 libwoff1 amd64 1.0.2-1build4 [45.2 kB]\n",
            "Get:13 http://archive.ubuntu.com/ubuntu jammy/universe amd64 dvisvgm amd64 2.13.1-1 [1,221 kB]\n",
            "Get:14 http://archive.ubuntu.com/ubuntu jammy/universe amd64 fonts-lmodern all 2.004.5-6.1 [4,532 kB]\n",
            "Get:15 http://archive.ubuntu.com/ubuntu jammy/main amd64 fonts-noto-mono all 20201225-1build1 [397 kB]\n",
            "Get:16 http://archive.ubuntu.com/ubuntu jammy/universe amd64 fonts-texgyre all 20180621-3.1 [10.2 MB]\n",
            "Get:17 http://archive.ubuntu.com/ubuntu jammy/universe amd64 libapache-pom-java all 18-1 [4,720 B]\n",
            "Get:18 http://archive.ubuntu.com/ubuntu jammy/universe amd64 libcommons-parent-java all 43-1 [10.8 kB]\n",
            "Get:19 http://archive.ubuntu.com/ubuntu jammy/universe amd64 libcommons-logging-java all 1.2-2 [60.3 kB]\n",
            "Get:20 http://archive.ubuntu.com/ubuntu jammy/main amd64 libfontenc1 amd64 1:1.1.4-1build3 [14.7 kB]\n",
            "Get:21 http://archive.ubuntu.com/ubuntu jammy-updates/main amd64 libptexenc1 amd64 2021.20210626.59705-1ubuntu0.1 [39.1 kB]\n",
            "Get:22 http://archive.ubuntu.com/ubuntu jammy/main amd64 rubygems-integration all 1.18 [5,336 B]\n",
            "Get:23 http://archive.ubuntu.com/ubuntu jammy-updates/main amd64 ruby3.0 amd64 3.0.2-7ubuntu2.4 [50.1 kB]\n",
            "Get:24 http://archive.ubuntu.com/ubuntu jammy/main amd64 ruby-rubygems all 3.3.5-2 [228 kB]\n",
            "Get:25 http://archive.ubuntu.com/ubuntu jammy/main amd64 ruby amd64 1:3.0~exp1 [5,100 B]\n",
            "Get:26 http://archive.ubuntu.com/ubuntu jammy/main amd64 rake all 13.0.6-2 [61.7 kB]\n",
            "Get:27 http://archive.ubuntu.com/ubuntu jammy/main amd64 ruby-net-telnet all 0.1.1-2 [12.6 kB]\n",
            "Get:28 http://archive.ubuntu.com/ubuntu jammy/universe amd64 ruby-webrick all 1.7.0-3 [51.8 kB]\n",
            "Get:29 http://archive.ubuntu.com/ubuntu jammy-updates/main amd64 ruby-xmlrpc all 0.3.2-1ubuntu0.1 [24.9 kB]\n",
            "Get:30 http://archive.ubuntu.com/ubuntu jammy-updates/main amd64 libruby3.0 amd64 3.0.2-7ubuntu2.4 [5,113 kB]\n",
            "Get:31 http://archive.ubuntu.com/ubuntu jammy-updates/main amd64 libsynctex2 amd64 2021.20210626.59705-1ubuntu0.1 [55.5 kB]\n",
            "Get:32 http://archive.ubuntu.com/ubuntu jammy/universe amd64 libteckit0 amd64 2.5.11+ds1-1 [421 kB]\n",
            "Get:33 http://archive.ubuntu.com/ubuntu jammy-updates/main amd64 libtexlua53 amd64 2021.20210626.59705-1ubuntu0.1 [120 kB]\n",
            "Get:34 http://archive.ubuntu.com/ubuntu jammy-updates/main amd64 libtexluajit2 amd64 2021.20210626.59705-1ubuntu0.1 [267 kB]\n",
            "Get:35 http://archive.ubuntu.com/ubuntu jammy/universe amd64 libzzip-0-13 amd64 0.13.72+dfsg.1-1.1 [27.0 kB]\n",
            "Get:36 http://archive.ubuntu.com/ubuntu jammy/main amd64 xfonts-encodings all 1:1.0.5-0ubuntu2 [578 kB]\n",
            "Get:37 http://archive.ubuntu.com/ubuntu jammy/main amd64 xfonts-utils amd64 1:7.7+6build2 [94.6 kB]\n",
            "Get:38 http://archive.ubuntu.com/ubuntu jammy/universe amd64 lmodern all 2.004.5-6.1 [9,471 kB]\n",
            "Get:39 http://archive.ubuntu.com/ubuntu jammy/universe amd64 preview-latex-style all 12.2-1ubuntu1 [185 kB]\n",
            "Get:40 http://archive.ubuntu.com/ubuntu jammy/main amd64 t1utils amd64 1.41-4build2 [61.3 kB]\n",
            "Get:41 http://archive.ubuntu.com/ubuntu jammy/universe amd64 teckit amd64 2.5.11+ds1-1 [699 kB]\n",
            "Get:42 http://archive.ubuntu.com/ubuntu jammy/universe amd64 tex-gyre all 20180621-3.1 [6,209 kB]\n",
            "Get:43 http://archive.ubuntu.com/ubuntu jammy-updates/universe amd64 texlive-binaries amd64 2021.20210626.59705-1ubuntu0.1 [9,848 kB]\n",
            "Get:44 http://archive.ubuntu.com/ubuntu jammy/universe amd64 texlive-base all 2021.20220204-1 [21.0 MB]\n",
            "Get:45 http://archive.ubuntu.com/ubuntu jammy/universe amd64 texlive-fonts-recommended all 2021.20220204-1 [4,972 kB]\n",
            "Get:46 http://archive.ubuntu.com/ubuntu jammy/universe amd64 texlive-latex-base all 2021.20220204-1 [1,128 kB]\n",
            "Get:47 http://archive.ubuntu.com/ubuntu jammy/universe amd64 texlive-latex-recommended all 2021.20220204-1 [14.4 MB]\n",
            "Get:48 http://archive.ubuntu.com/ubuntu jammy/universe amd64 texlive all 2021.20220204-1 [14.3 kB]\n",
            "Get:49 http://archive.ubuntu.com/ubuntu jammy/universe amd64 libfontbox-java all 1:1.8.16-2 [207 kB]\n",
            "Get:50 http://archive.ubuntu.com/ubuntu jammy/universe amd64 libpdfbox-java all 1:1.8.16-2 [5,199 kB]\n",
            "Get:51 http://archive.ubuntu.com/ubuntu jammy/universe amd64 texlive-pictures all 2021.20220204-1 [8,720 kB]\n",
            "Get:52 http://archive.ubuntu.com/ubuntu jammy/universe amd64 texlive-latex-extra all 2021.20220204-1 [13.9 MB]\n",
            "Get:53 http://archive.ubuntu.com/ubuntu jammy/universe amd64 texlive-plain-generic all 2021.20220204-1 [27.5 MB]\n",
            "Get:54 http://archive.ubuntu.com/ubuntu jammy/universe amd64 tipa all 2:1.3-21 [2,967 kB]\n",
            "Get:55 http://archive.ubuntu.com/ubuntu jammy/universe amd64 texlive-xetex all 2021.20220204-1 [12.4 MB]\n",
            "Fetched 182 MB in 6s (32.7 MB/s)\n",
            "Extracting templates from packages: 100%\n",
            "Preconfiguring packages ...\n",
            "Selecting previously unselected package fonts-droid-fallback.\n",
            "(Reading database ... 121658 files and directories currently installed.)\n",
            "Preparing to unpack .../00-fonts-droid-fallback_1%3a6.0.1r16-1.1build1_all.deb ...\n",
            "Unpacking fonts-droid-fallback (1:6.0.1r16-1.1build1) ...\n",
            "Selecting previously unselected package fonts-lato.\n",
            "Preparing to unpack .../01-fonts-lato_2.0-2.1_all.deb ...\n",
            "Unpacking fonts-lato (2.0-2.1) ...\n",
            "Selecting previously unselected package poppler-data.\n",
            "Preparing to unpack .../02-poppler-data_0.4.11-1_all.deb ...\n",
            "Unpacking poppler-data (0.4.11-1) ...\n",
            "Selecting previously unselected package tex-common.\n",
            "Preparing to unpack .../03-tex-common_6.17_all.deb ...\n",
            "Unpacking tex-common (6.17) ...\n",
            "Selecting previously unselected package fonts-urw-base35.\n",
            "Preparing to unpack .../04-fonts-urw-base35_20200910-1_all.deb ...\n",
            "Unpacking fonts-urw-base35 (20200910-1) ...\n",
            "Selecting previously unselected package libgs9-common.\n",
            "Preparing to unpack .../05-libgs9-common_9.55.0~dfsg1-0ubuntu5.6_all.deb ...\n",
            "Unpacking libgs9-common (9.55.0~dfsg1-0ubuntu5.6) ...\n",
            "Selecting previously unselected package libidn12:amd64.\n",
            "Preparing to unpack .../06-libidn12_1.38-4ubuntu1_amd64.deb ...\n",
            "Unpacking libidn12:amd64 (1.38-4ubuntu1) ...\n",
            "Selecting previously unselected package libijs-0.35:amd64.\n",
            "Preparing to unpack .../07-libijs-0.35_0.35-15build2_amd64.deb ...\n",
            "Unpacking libijs-0.35:amd64 (0.35-15build2) ...\n",
            "Selecting previously unselected package libjbig2dec0:amd64.\n",
            "Preparing to unpack .../08-libjbig2dec0_0.19-3build2_amd64.deb ...\n",
            "Unpacking libjbig2dec0:amd64 (0.19-3build2) ...\n",
            "Selecting previously unselected package libgs9:amd64.\n",
            "Preparing to unpack .../09-libgs9_9.55.0~dfsg1-0ubuntu5.6_amd64.deb ...\n",
            "Unpacking libgs9:amd64 (9.55.0~dfsg1-0ubuntu5.6) ...\n",
            "Selecting previously unselected package libkpathsea6:amd64.\n",
            "Preparing to unpack .../10-libkpathsea6_2021.20210626.59705-1ubuntu0.1_amd64.deb ...\n",
            "Unpacking libkpathsea6:amd64 (2021.20210626.59705-1ubuntu0.1) ...\n",
            "Selecting previously unselected package libwoff1:amd64.\n",
            "Preparing to unpack .../11-libwoff1_1.0.2-1build4_amd64.deb ...\n",
            "Unpacking libwoff1:amd64 (1.0.2-1build4) ...\n",
            "Selecting previously unselected package dvisvgm.\n",
            "Preparing to unpack .../12-dvisvgm_2.13.1-1_amd64.deb ...\n",
            "Unpacking dvisvgm (2.13.1-1) ...\n",
            "Selecting previously unselected package fonts-lmodern.\n",
            "Preparing to unpack .../13-fonts-lmodern_2.004.5-6.1_all.deb ...\n",
            "Unpacking fonts-lmodern (2.004.5-6.1) ...\n",
            "Selecting previously unselected package fonts-noto-mono.\n",
            "Preparing to unpack .../14-fonts-noto-mono_20201225-1build1_all.deb ...\n",
            "Unpacking fonts-noto-mono (20201225-1build1) ...\n",
            "Selecting previously unselected package fonts-texgyre.\n",
            "Preparing to unpack .../15-fonts-texgyre_20180621-3.1_all.deb ...\n",
            "Unpacking fonts-texgyre (20180621-3.1) ...\n",
            "Selecting previously unselected package libapache-pom-java.\n",
            "Preparing to unpack .../16-libapache-pom-java_18-1_all.deb ...\n",
            "Unpacking libapache-pom-java (18-1) ...\n",
            "Selecting previously unselected package libcommons-parent-java.\n",
            "Preparing to unpack .../17-libcommons-parent-java_43-1_all.deb ...\n",
            "Unpacking libcommons-parent-java (43-1) ...\n",
            "Selecting previously unselected package libcommons-logging-java.\n",
            "Preparing to unpack .../18-libcommons-logging-java_1.2-2_all.deb ...\n",
            "Unpacking libcommons-logging-java (1.2-2) ...\n",
            "Selecting previously unselected package libfontenc1:amd64.\n",
            "Preparing to unpack .../19-libfontenc1_1%3a1.1.4-1build3_amd64.deb ...\n",
            "Unpacking libfontenc1:amd64 (1:1.1.4-1build3) ...\n",
            "Selecting previously unselected package libptexenc1:amd64.\n",
            "Preparing to unpack .../20-libptexenc1_2021.20210626.59705-1ubuntu0.1_amd64.deb ...\n",
            "Unpacking libptexenc1:amd64 (2021.20210626.59705-1ubuntu0.1) ...\n",
            "Selecting previously unselected package rubygems-integration.\n",
            "Preparing to unpack .../21-rubygems-integration_1.18_all.deb ...\n",
            "Unpacking rubygems-integration (1.18) ...\n",
            "Selecting previously unselected package ruby3.0.\n",
            "Preparing to unpack .../22-ruby3.0_3.0.2-7ubuntu2.4_amd64.deb ...\n",
            "Unpacking ruby3.0 (3.0.2-7ubuntu2.4) ...\n",
            "Selecting previously unselected package ruby-rubygems.\n",
            "Preparing to unpack .../23-ruby-rubygems_3.3.5-2_all.deb ...\n",
            "Unpacking ruby-rubygems (3.3.5-2) ...\n",
            "Selecting previously unselected package ruby.\n",
            "Preparing to unpack .../24-ruby_1%3a3.0~exp1_amd64.deb ...\n",
            "Unpacking ruby (1:3.0~exp1) ...\n",
            "Selecting previously unselected package rake.\n",
            "Preparing to unpack .../25-rake_13.0.6-2_all.deb ...\n",
            "Unpacking rake (13.0.6-2) ...\n",
            "Selecting previously unselected package ruby-net-telnet.\n",
            "Preparing to unpack .../26-ruby-net-telnet_0.1.1-2_all.deb ...\n",
            "Unpacking ruby-net-telnet (0.1.1-2) ...\n",
            "Selecting previously unselected package ruby-webrick.\n",
            "Preparing to unpack .../27-ruby-webrick_1.7.0-3_all.deb ...\n",
            "Unpacking ruby-webrick (1.7.0-3) ...\n",
            "Selecting previously unselected package ruby-xmlrpc.\n",
            "Preparing to unpack .../28-ruby-xmlrpc_0.3.2-1ubuntu0.1_all.deb ...\n",
            "Unpacking ruby-xmlrpc (0.3.2-1ubuntu0.1) ...\n",
            "Selecting previously unselected package libruby3.0:amd64.\n",
            "Preparing to unpack .../29-libruby3.0_3.0.2-7ubuntu2.4_amd64.deb ...\n",
            "Unpacking libruby3.0:amd64 (3.0.2-7ubuntu2.4) ...\n",
            "Selecting previously unselected package libsynctex2:amd64.\n",
            "Preparing to unpack .../30-libsynctex2_2021.20210626.59705-1ubuntu0.1_amd64.deb ...\n",
            "Unpacking libsynctex2:amd64 (2021.20210626.59705-1ubuntu0.1) ...\n",
            "Selecting previously unselected package libteckit0:amd64.\n",
            "Preparing to unpack .../31-libteckit0_2.5.11+ds1-1_amd64.deb ...\n",
            "Unpacking libteckit0:amd64 (2.5.11+ds1-1) ...\n",
            "Selecting previously unselected package libtexlua53:amd64.\n",
            "Preparing to unpack .../32-libtexlua53_2021.20210626.59705-1ubuntu0.1_amd64.deb ...\n",
            "Unpacking libtexlua53:amd64 (2021.20210626.59705-1ubuntu0.1) ...\n",
            "Selecting previously unselected package libtexluajit2:amd64.\n",
            "Preparing to unpack .../33-libtexluajit2_2021.20210626.59705-1ubuntu0.1_amd64.deb ...\n",
            "Unpacking libtexluajit2:amd64 (2021.20210626.59705-1ubuntu0.1) ...\n",
            "Selecting previously unselected package libzzip-0-13:amd64.\n",
            "Preparing to unpack .../34-libzzip-0-13_0.13.72+dfsg.1-1.1_amd64.deb ...\n",
            "Unpacking libzzip-0-13:amd64 (0.13.72+dfsg.1-1.1) ...\n",
            "Selecting previously unselected package xfonts-encodings.\n",
            "Preparing to unpack .../35-xfonts-encodings_1%3a1.0.5-0ubuntu2_all.deb ...\n",
            "Unpacking xfonts-encodings (1:1.0.5-0ubuntu2) ...\n",
            "Selecting previously unselected package xfonts-utils.\n",
            "Preparing to unpack .../36-xfonts-utils_1%3a7.7+6build2_amd64.deb ...\n",
            "Unpacking xfonts-utils (1:7.7+6build2) ...\n",
            "Selecting previously unselected package lmodern.\n",
            "Preparing to unpack .../37-lmodern_2.004.5-6.1_all.deb ...\n",
            "Unpacking lmodern (2.004.5-6.1) ...\n",
            "Selecting previously unselected package preview-latex-style.\n",
            "Preparing to unpack .../38-preview-latex-style_12.2-1ubuntu1_all.deb ...\n",
            "Unpacking preview-latex-style (12.2-1ubuntu1) ...\n",
            "Selecting previously unselected package t1utils.\n",
            "Preparing to unpack .../39-t1utils_1.41-4build2_amd64.deb ...\n",
            "Unpacking t1utils (1.41-4build2) ...\n",
            "Selecting previously unselected package teckit.\n",
            "Preparing to unpack .../40-teckit_2.5.11+ds1-1_amd64.deb ...\n",
            "Unpacking teckit (2.5.11+ds1-1) ...\n",
            "Selecting previously unselected package tex-gyre.\n",
            "Preparing to unpack .../41-tex-gyre_20180621-3.1_all.deb ...\n",
            "Unpacking tex-gyre (20180621-3.1) ...\n",
            "Selecting previously unselected package texlive-binaries.\n",
            "Preparing to unpack .../42-texlive-binaries_2021.20210626.59705-1ubuntu0.1_amd64.deb ...\n",
            "Unpacking texlive-binaries (2021.20210626.59705-1ubuntu0.1) ...\n",
            "Selecting previously unselected package texlive-base.\n",
            "Preparing to unpack .../43-texlive-base_2021.20220204-1_all.deb ...\n",
            "Unpacking texlive-base (2021.20220204-1) ...\n",
            "Selecting previously unselected package texlive-fonts-recommended.\n",
            "Preparing to unpack .../44-texlive-fonts-recommended_2021.20220204-1_all.deb ...\n",
            "Unpacking texlive-fonts-recommended (2021.20220204-1) ...\n",
            "Selecting previously unselected package texlive-latex-base.\n",
            "Preparing to unpack .../45-texlive-latex-base_2021.20220204-1_all.deb ...\n",
            "Unpacking texlive-latex-base (2021.20220204-1) ...\n",
            "Selecting previously unselected package texlive-latex-recommended.\n",
            "Preparing to unpack .../46-texlive-latex-recommended_2021.20220204-1_all.deb ...\n",
            "Unpacking texlive-latex-recommended (2021.20220204-1) ...\n",
            "Selecting previously unselected package texlive.\n",
            "Preparing to unpack .../47-texlive_2021.20220204-1_all.deb ...\n",
            "Unpacking texlive (2021.20220204-1) ...\n",
            "Selecting previously unselected package libfontbox-java.\n",
            "Preparing to unpack .../48-libfontbox-java_1%3a1.8.16-2_all.deb ...\n",
            "Unpacking libfontbox-java (1:1.8.16-2) ...\n",
            "Selecting previously unselected package libpdfbox-java.\n",
            "Preparing to unpack .../49-libpdfbox-java_1%3a1.8.16-2_all.deb ...\n",
            "Unpacking libpdfbox-java (1:1.8.16-2) ...\n",
            "Selecting previously unselected package texlive-pictures.\n",
            "Preparing to unpack .../50-texlive-pictures_2021.20220204-1_all.deb ...\n",
            "Unpacking texlive-pictures (2021.20220204-1) ...\n",
            "Selecting previously unselected package texlive-latex-extra.\n",
            "Preparing to unpack .../51-texlive-latex-extra_2021.20220204-1_all.deb ...\n",
            "Unpacking texlive-latex-extra (2021.20220204-1) ...\n",
            "Selecting previously unselected package texlive-plain-generic.\n",
            "Preparing to unpack .../52-texlive-plain-generic_2021.20220204-1_all.deb ...\n",
            "Unpacking texlive-plain-generic (2021.20220204-1) ...\n",
            "Selecting previously unselected package tipa.\n",
            "Preparing to unpack .../53-tipa_2%3a1.3-21_all.deb ...\n",
            "Unpacking tipa (2:1.3-21) ...\n",
            "Selecting previously unselected package texlive-xetex.\n",
            "Preparing to unpack .../54-texlive-xetex_2021.20220204-1_all.deb ...\n",
            "Unpacking texlive-xetex (2021.20220204-1) ...\n",
            "Setting up fonts-lato (2.0-2.1) ...\n",
            "Setting up fonts-noto-mono (20201225-1build1) ...\n",
            "Setting up libwoff1:amd64 (1.0.2-1build4) ...\n",
            "Setting up libtexlua53:amd64 (2021.20210626.59705-1ubuntu0.1) ...\n",
            "Setting up libijs-0.35:amd64 (0.35-15build2) ...\n",
            "Setting up libtexluajit2:amd64 (2021.20210626.59705-1ubuntu0.1) ...\n",
            "Setting up libfontbox-java (1:1.8.16-2) ...\n",
            "Setting up rubygems-integration (1.18) ...\n",
            "Setting up libzzip-0-13:amd64 (0.13.72+dfsg.1-1.1) ...\n",
            "Setting up fonts-urw-base35 (20200910-1) ...\n",
            "Setting up poppler-data (0.4.11-1) ...\n",
            "Setting up tex-common (6.17) ...\n",
            "update-language: texlive-base not installed and configured, doing nothing!\n",
            "Setting up libfontenc1:amd64 (1:1.1.4-1build3) ...\n",
            "Setting up libjbig2dec0:amd64 (0.19-3build2) ...\n",
            "Setting up libteckit0:amd64 (2.5.11+ds1-1) ...\n",
            "Setting up libapache-pom-java (18-1) ...\n",
            "Setting up ruby-net-telnet (0.1.1-2) ...\n",
            "Setting up xfonts-encodings (1:1.0.5-0ubuntu2) ...\n",
            "Setting up t1utils (1.41-4build2) ...\n",
            "Setting up libidn12:amd64 (1.38-4ubuntu1) ...\n",
            "Setting up fonts-texgyre (20180621-3.1) ...\n",
            "Setting up libkpathsea6:amd64 (2021.20210626.59705-1ubuntu0.1) ...\n",
            "Setting up ruby-webrick (1.7.0-3) ...\n",
            "Setting up fonts-lmodern (2.004.5-6.1) ...\n",
            "Setting up fonts-droid-fallback (1:6.0.1r16-1.1build1) ...\n",
            "Setting up ruby-xmlrpc (0.3.2-1ubuntu0.1) ...\n",
            "Setting up libsynctex2:amd64 (2021.20210626.59705-1ubuntu0.1) ...\n",
            "Setting up libgs9-common (9.55.0~dfsg1-0ubuntu5.6) ...\n",
            "Setting up teckit (2.5.11+ds1-1) ...\n",
            "Setting up libpdfbox-java (1:1.8.16-2) ...\n",
            "Setting up libgs9:amd64 (9.55.0~dfsg1-0ubuntu5.6) ...\n",
            "Setting up preview-latex-style (12.2-1ubuntu1) ...\n",
            "Setting up libcommons-parent-java (43-1) ...\n",
            "Setting up dvisvgm (2.13.1-1) ...\n",
            "Setting up libcommons-logging-java (1.2-2) ...\n",
            "Setting up xfonts-utils (1:7.7+6build2) ...\n",
            "Setting up libptexenc1:amd64 (2021.20210626.59705-1ubuntu0.1) ...\n",
            "Setting up texlive-binaries (2021.20210626.59705-1ubuntu0.1) ...\n",
            "update-alternatives: using /usr/bin/xdvi-xaw to provide /usr/bin/xdvi.bin (xdvi.bin) in auto mode\n",
            "update-alternatives: using /usr/bin/bibtex.original to provide /usr/bin/bibtex (bibtex) in auto mode\n",
            "Setting up lmodern (2.004.5-6.1) ...\n",
            "Setting up texlive-base (2021.20220204-1) ...\n",
            "/usr/bin/ucfr\n",
            "/usr/bin/ucfr\n",
            "/usr/bin/ucfr\n",
            "/usr/bin/ucfr\n",
            "mktexlsr: Updating /var/lib/texmf/ls-R-TEXLIVEDIST... \n",
            "mktexlsr: Updating /var/lib/texmf/ls-R-TEXMFMAIN... \n",
            "mktexlsr: Updating /var/lib/texmf/ls-R... \n",
            "mktexlsr: Done.\n",
            "tl-paper: setting paper size for dvips to a4: /var/lib/texmf/dvips/config/config-paper.ps\n",
            "tl-paper: setting paper size for dvipdfmx to a4: /var/lib/texmf/dvipdfmx/dvipdfmx-paper.cfg\n",
            "tl-paper: setting paper size for xdvi to a4: /var/lib/texmf/xdvi/XDvi-paper\n",
            "tl-paper: setting paper size for pdftex to a4: /var/lib/texmf/tex/generic/tex-ini-files/pdftexconfig.tex\n",
            "Setting up tex-gyre (20180621-3.1) ...\n",
            "Setting up texlive-plain-generic (2021.20220204-1) ...\n",
            "Setting up texlive-latex-base (2021.20220204-1) ...\n",
            "Setting up texlive-latex-recommended (2021.20220204-1) ...\n",
            "Setting up texlive-pictures (2021.20220204-1) ...\n",
            "Setting up texlive-fonts-recommended (2021.20220204-1) ...\n",
            "Setting up tipa (2:1.3-21) ...\n",
            "Setting up texlive (2021.20220204-1) ...\n",
            "Setting up texlive-latex-extra (2021.20220204-1) ...\n",
            "Setting up texlive-xetex (2021.20220204-1) ...\n",
            "Setting up rake (13.0.6-2) ...\n",
            "Setting up libruby3.0:amd64 (3.0.2-7ubuntu2.4) ...\n",
            "Setting up ruby3.0 (3.0.2-7ubuntu2.4) ...\n",
            "Setting up ruby (1:3.0~exp1) ...\n",
            "Setting up ruby-rubygems (3.3.5-2) ...\n",
            "Processing triggers for man-db (2.10.2-1) ...\n",
            "Processing triggers for fontconfig (2.13.1-4.2ubuntu5) ...\n",
            "Processing triggers for libc-bin (2.35-0ubuntu3.4) ...\n",
            "/sbin/ldconfig.real: /usr/local/lib/libtbbbind.so.3 is not a symbolic link\n",
            "\n",
            "/sbin/ldconfig.real: /usr/local/lib/libtbbbind_2_5.so.3 is not a symbolic link\n",
            "\n",
            "/sbin/ldconfig.real: /usr/local/lib/libtbbmalloc.so.2 is not a symbolic link\n",
            "\n",
            "/sbin/ldconfig.real: /usr/local/lib/libtbbbind_2_0.so.3 is not a symbolic link\n",
            "\n",
            "/sbin/ldconfig.real: /usr/local/lib/libtbb.so.12 is not a symbolic link\n",
            "\n",
            "/sbin/ldconfig.real: /usr/local/lib/libtbbmalloc_proxy.so.2 is not a symbolic link\n",
            "\n",
            "Processing triggers for tex-common (6.17) ...\n",
            "Running updmap-sys. This may take some time... done.\n",
            "Running mktexlsr /var/lib/texmf ... done.\n",
            "Building format(s) --all.\n",
            "\tThis may take some time... done.\n",
            "Collecting pypandoc\n",
            "  Downloading pypandoc-1.12-py3-none-any.whl (20 kB)\n",
            "Installing collected packages: pypandoc\n",
            "Successfully installed pypandoc-1.12\n"
          ]
        }
      ]
    },
    {
      "cell_type": "code",
      "source": [
        "from google.colab import drive\n",
        "drive.mount('/content/drive')\n",
        "!cp drive/My\\ Drive/Colab\\ Notebooks/CMSC320HW4.ipynb ./\n",
        "!jupyter nbconvert --to PDF \"CMSC320HW4.ipynb\""
      ],
      "metadata": {
        "colab": {
          "base_uri": "https://localhost:8080/"
        },
        "id": "RYhFI98Du9Bh",
        "outputId": "f190daf7-7fa2-4e90-812e-065bbe09ec36"
      },
      "execution_count": 31,
      "outputs": [
        {
          "output_type": "stream",
          "name": "stdout",
          "text": [
            "Drive already mounted at /content/drive; to attempt to forcibly remount, call drive.mount(\"/content/drive\", force_remount=True).\n",
            "[NbConvertApp] Converting notebook CMSC320HW4.ipynb to PDF\n",
            "[NbConvertApp] Support files will be in CMSC320HW4_files/\n",
            "[NbConvertApp] Making directory ./CMSC320HW4_files\n",
            "[NbConvertApp] Making directory ./CMSC320HW4_files\n",
            "[NbConvertApp] Making directory ./CMSC320HW4_files\n",
            "[NbConvertApp] Making directory ./CMSC320HW4_files\n",
            "[NbConvertApp] Making directory ./CMSC320HW4_files\n",
            "[NbConvertApp] Making directory ./CMSC320HW4_files\n",
            "[NbConvertApp] Making directory ./CMSC320HW4_files\n",
            "[NbConvertApp] Writing 101354 bytes to notebook.tex\n",
            "[NbConvertApp] Building PDF\n",
            "[NbConvertApp] Running xelatex 3 times: ['xelatex', 'notebook.tex', '-quiet']\n",
            "[NbConvertApp] Running bibtex 1 time: ['bibtex', 'notebook']\n",
            "[NbConvertApp] WARNING | bibtex had problems, most likely because there were no citations\n",
            "[NbConvertApp] PDF successfully created\n",
            "[NbConvertApp] Writing 211000 bytes to CMSC320HW4.pdf\n"
          ]
        }
      ]
    }
  ]
}